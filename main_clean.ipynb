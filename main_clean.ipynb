{
 "cells": [
  {
   "cell_type": "code",
   "execution_count": null,
   "metadata": {
    "id": "kA-gCiEcfTWp"
   },
   "outputs": [],
   "source": [
    "!pip install numpy==1.26.4 --quiet"
   ]
  },
  {
   "cell_type": "code",
   "execution_count": null,
   "metadata": {
    "id": "a_6zc3W8bPDz"
   },
   "outputs": [],
   "source": [
    "!pip install -q transformers datasets evaluate"
   ]
  },
  {
   "cell_type": "code",
   "execution_count": null,
   "metadata": {
    "id": "s81VPNYxbYNE"
   },
   "outputs": [],
   "source": [
    "!pip install -q -U transformers"
   ]
  },
  {
   "cell_type": "code",
   "execution_count": null,
   "metadata": {
    "id": "420EmJaDbdwl"
   },
   "outputs": [],
   "source": [
    "!pip install -q emoji"
   ]
  },
  {
   "cell_type": "code",
   "execution_count": null,
   "metadata": {
    "id": "PfKzcM40bf_2"
   },
   "outputs": [],
   "source": [
    "# Import necessary libraries\n",
    "import numpy as np\n",
    "import pandas as pd\n",
    "import matplotlib.pyplot as plt\n",
    "import seaborn as sns\n",
    "from sklearn.metrics import confusion_matrix\n",
    "from sklearn.model_selection import train_test_split\n",
    "from transformers import DistilBertTokenizerFast, DistilBertForSequenceClassification, TrainingArguments, Trainer, EarlyStoppingCallback\n",
    "import torch\n",
    "from datasets import Dataset, DatasetDict\n",
    "import evaluate\n",
    "import re\n",
    "import emoji"
   ]
  },
  {
   "cell_type": "code",
   "execution_count": null,
   "metadata": {
    "colab": {
     "base_uri": "https://localhost:8080/",
     "height": 206
    },
    "id": "mObbg85ebgs8",
    "outputId": "e0bc687a-ab5a-4655-dc7b-8a25a4e6c098"
   },
   "outputs": [],
   "source": [
    "# Load dataset\n",
    "df = pd.read_csv(\"/content/Mental-Health-Twitter.csv\")\n",
    "df.head()"
   ]
  },
  {
   "cell_type": "code",
   "execution_count": null,
   "metadata": {
    "id": "p01Jue49bjL-"
   },
   "outputs": [],
   "source": [
    "# Only take necessary columns\n",
    "df = df[['post_text','label']].copy()"
   ]
  },
  {
   "cell_type": "code",
   "execution_count": null,
   "metadata": {
    "id": "Srp7cuzgblSP"
   },
   "outputs": [],
   "source": [
    "# Function for cleaning the text\n",
    "def clean_text(text):\n",
    "    if pd.isna(text):\n",
    "        return \"\"\n",
    "\n",
    "    text = str(text)\n",
    "    text = re.sub(r\"http\\S+\", \"\", text)             # Remove URLs\n",
    "    text = re.sub(r\"@\\w+\", \"\", text)                # Remove mentions\n",
    "    text = re.sub(r\"#\\w+\", \"\", text)                # Remove hashtags\n",
    "    text = emoji.replace_emoji(text, replace=\"\")    # Remove emojis\n",
    "    text = re.sub(r\"\\s+\", \" \", text).strip()        # Remove extra whitespace\n",
    "    text = text.lower()                             # Lowercase\n",
    "    return text"
   ]
  },
  {
   "cell_type": "code",
   "execution_count": null,
   "metadata": {
    "id": "2mPy-aCwbpqX"
   },
   "outputs": [],
   "source": [
    "# Clean text in dataframe\n",
    "df['post_text'] = df['post_text'].apply(clean_text)"
   ]
  },
  {
   "cell_type": "code",
   "execution_count": null,
   "metadata": {
    "colab": {
     "base_uri": "https://localhost:8080/",
     "height": 178
    },
    "id": "Tk64i3ZEbqJC",
    "outputId": "5680c58e-3c34-4477-ead5-3e52789e79ac"
   },
   "outputs": [],
   "source": [
    "# Show the label distribution\n",
    "df['label'].value_counts()"
   ]
  },
  {
   "cell_type": "code",
   "execution_count": null,
   "metadata": {
    "colab": {
     "base_uri": "https://localhost:8080/"
    },
    "id": "ksyBTloYbui2",
    "outputId": "9ce7a07c-1365-47e2-b1aa-59d139bbe9d5"
   },
   "outputs": [],
   "source": [
    "# Split dataset into train(60%), val(20%) and test(20%)\n",
    "\n",
    "X_train, X_temp, y_train,y_temp = train_test_split(df['post_text'], df['label'], test_size=0.4, stratify=df['label'], random_state=42)\n",
    "X_val, X_test, y_val, y_test = train_test_split(X_temp, y_temp, test_size=0.5, stratify=y_temp, random_state=42)\n",
    "\n",
    "# Print size of train, val and test datasets\n",
    "print(f\"Train: {len(X_train)}\\nValidation: {len(X_val)}\\nTest: {len(X_test)}\")"
   ]
  },
  {
   "cell_type": "code",
   "execution_count": null,
   "metadata": {
    "id": "vHe7Kr4EbvCw"
   },
   "outputs": [],
   "source": [
    "# Convert labels to NumPy arrays\n",
    "y_train_np = np.array(y_train)\n",
    "y_val_np = np.array(y_val)\n",
    "y_test_np = np.array(y_test)"
   ]
  },
  {
   "cell_type": "code",
   "execution_count": null,
   "metadata": {
    "id": "zvkCBh6ObxiS"
   },
   "outputs": [],
   "source": [
    "# Build Hugging Face Dataset objects\n",
    "train_ds = Dataset.from_dict({\"text\": X_train.tolist(), \"label\": y_train_np.tolist()})\n",
    "val_ds = Dataset.from_dict({\"text\": X_val.tolist(), \"label\": y_val_np.tolist()})\n",
    "test_ds = Dataset.from_dict({\"text\": X_test.tolist(), \"label\": y_test_np.tolist()})\n",
    "\n",
    "# Combine Datasets into a Dataset Dict\n",
    "dataset = DatasetDict({\n",
    "    \"train\": train_ds,\n",
    "    \"validation\": val_ds,\n",
    "    \"test\": test_ds\n",
    "})"
   ]
  },
  {
   "cell_type": "code",
   "execution_count": null,
   "metadata": {
    "colab": {
     "base_uri": "https://localhost:8080/"
    },
    "id": "fbaokXMZb1rA",
    "outputId": "0b197fa1-367c-48ef-ddb3-50d0ec0b9b5f"
   },
   "outputs": [],
   "source": [
    "# Load pre-trained tokenizer for Distil BERT\n",
    "tokenizer = DistilBertTokenizerFast.from_pretrained('distilbert-base-uncased')"
   ]
  },
  {
   "cell_type": "code",
   "execution_count": null,
   "metadata": {
    "colab": {
     "base_uri": "https://localhost:8080/",
     "height": 113,
     "referenced_widgets": [
      "a4b0d08c441e4381b15d4fc6828d8c87",
      "dc66a7c298c34fd48067eecc7df16b66",
      "6d2845f30adb4fc69cd34b91f76c3947",
      "bbfceff1c7164966ba85765ea897998c",
      "45bacc1738ad4c649f253375e8a2b967",
      "2805f6a8ba3c43b6aafb347e2e7f93ad",
      "8b4eb24fbb824b44926308c53577c458",
      "675cb5699b934bca825d5214ea87ef15",
      "b15c13f3839f479eb7a881f824a8d3fb",
      "dd4b9ebdde4b4aee9002bd03c26d1758",
      "c4f5e3e23b37495c83a10428b480f7d7",
      "30286dbfd62546d5b95e29948e56bf4d",
      "ce67792ee0fe4fb7b519592d54f30522",
      "49b0879ff21e4a858b4d2836d87ad109",
      "edb5a0ac52aa4af389200d638f72846c",
      "07bfbcbfb95e4a578f6ce11950db804e",
      "46983198f6704287b20adfd27e6f5115",
      "80a0db45d62940b68f52bdbfd80f3152",
      "d44d09cad2514da1a7ea710d8ebfdff9",
      "65649627c9b54375b3434f9a8f0dcb9e",
      "ec7baf137fda4852b931ad1dc0b13600",
      "fdd26de8b0c44e9981417a13e5428afb",
      "fa8e2c369e8f4c0280bd0d3c769b7ec8",
      "896e0e7990944d26b0662f5a5da6328d",
      "711e72e916f44d8abacf32ad9fd54391",
      "7bf9adc43cb94a6c9ec5cc2143ddb603",
      "32c6dc0b4e0c4cf58be3327f82dd7b9b",
      "780fac0738fa46649f3d791dfcfd2422",
      "9183ae4f47d94e90bec57a80266f93e9",
      "9fd9972da7b44a72b0fce8694f029b53",
      "84305dc570ae459db0732e507087469b",
      "8208fe605944428f89b672fa27d9d601",
      "85df4a36118141b6a60f072a4c4dc2fb"
     ]
    },
    "id": "VyOz7og3b2UH",
    "outputId": "bc58c9db-e1b8-4d0f-bd24-569989bb74c3"
   },
   "outputs": [],
   "source": [
    "# Function to tokenize an example\n",
    "def tokenize_function(example):\n",
    "    return tokenizer(\n",
    "        example[\"text\"],\n",
    "        padding=\"max_length\",\n",
    "        truncation=True,\n",
    "        max_length=128\n",
    "    )\n",
    "\n",
    "# Apply tokenizer to the dataset\n",
    "tokenized_datasets = dataset.map(tokenize_function, batched=True)"
   ]
  },
  {
   "cell_type": "code",
   "execution_count": null,
   "metadata": {
    "id": "nxaiQzZob5CG"
   },
   "outputs": [],
   "source": [
    "# Prepare dataset for training\n",
    "tokenized_datasets = tokenized_datasets.remove_columns([\"text\"])\n",
    "tokenized_datasets = tokenized_datasets.rename_column(\"label\", \"labels\")\n",
    "tokenized_datasets.set_format(\"torch\")  # Needed for PyTorch models"
   ]
  },
  {
   "cell_type": "code",
   "execution_count": null,
   "metadata": {
    "colab": {
     "base_uri": "https://localhost:8080/"
    },
    "id": "EbEqB98vb7xL",
    "outputId": "28210b03-bc93-4a42-b23b-5e169d673a9a"
   },
   "outputs": [],
   "source": [
    "# Load pre-trained Distil BERT model\n",
    "model = DistilBertForSequenceClassification.from_pretrained(\n",
    "    \"distilbert-base-uncased\",\n",
    "    num_labels=2  # Binary classification: 0 (non-depressed), 1 (depressed)\n",
    ")"
   ]
  },
  {
   "cell_type": "code",
   "execution_count": null,
   "metadata": {
    "id": "EZvTfTrlb-UT"
   },
   "outputs": [],
   "source": [
    "# Load the evaluation metrics\n",
    "accuracy = evaluate.load(\"accuracy\")\n",
    "f1 = evaluate.load(\"f1\")\n",
    "precision = evaluate.load(\"precision\")\n",
    "recall = evaluate.load(\"recall\")\n",
    "\n",
    "# Function to compute metrics after each evaluation\n",
    "def compute_metrics(eval_pred):\n",
    "    logits, labels = eval_pred\n",
    "    predictions = logits.argmax(axis=-1)  # label with highest score\n",
    "    return {\n",
    "        \"accuracy\": (accuracy.compute(predictions=predictions, references=labels))[\"accuracy\"],\n",
    "        \"f1\": (f1.compute(predictions=predictions, references=labels, average='weighted'))[\"f1\"],\n",
    "        \"precision\": (precision.compute(predictions=predictions, references=labels, average='weighted'))[\"precision\"],\n",
    "        \"recall\": (recall.compute(predictions=predictions, references=labels, average='weighted'))[\"recall\"],\n",
    "    }"
   ]
  },
  {
   "cell_type": "code",
   "execution_count": null,
   "metadata": {
    "id": "dmB_HGJ1cBLU"
   },
   "outputs": [],
   "source": [
    "# Set up the training arguments\n",
    "training_args = TrainingArguments(\n",
    "    output_dir=\"./bert-finetuned\",\n",
    "    eval_strategy=\"epoch\",\n",
    "    save_strategy=\"epoch\",\n",
    "    logging_strategy=\"epoch\",\n",
    "    learning_rate=1e-5,\n",
    "    per_device_train_batch_size=16,\n",
    "    per_device_eval_batch_size=16,\n",
    "    num_train_epochs=2,\n",
    "    weight_decay=0.1,\n",
    "    load_best_model_at_end=True,\n",
    "    metric_for_best_model=\"f1\",\n",
    "    greater_is_better=True,\n",
    "    report_to=\"none\"\n",
    ")"
   ]
  },
  {
   "cell_type": "code",
   "execution_count": null,
   "metadata": {
    "colab": {
     "base_uri": "https://localhost:8080/"
    },
    "id": "5y0zzZnWcDnw",
    "outputId": "a59cdaa1-e6cb-4bd7-dece-d88211f2fd93"
   },
   "outputs": [],
   "source": [
    "# Create trainer object\n",
    "trainer = Trainer(\n",
    "    model=model,\n",
    "    args=training_args,\n",
    "    train_dataset=tokenized_datasets[\"train\"],\n",
    "    eval_dataset=tokenized_datasets[\"validation\"],\n",
    "    compute_metrics=compute_metrics,\n",
    "    tokenizer=tokenizer,\n",
    "    callbacks=[EarlyStoppingCallback(early_stopping_patience=1)]\n",
    ")"
   ]
  },
  {
   "cell_type": "code",
   "execution_count": null,
   "metadata": {
    "colab": {
     "base_uri": "https://localhost:8080/",
     "height": 173
    },
    "id": "i8OQy4jEcF4F",
    "outputId": "cd501835-8d9d-4e6c-c530-8877b035b91c"
   },
   "outputs": [],
   "source": [
    "# Train the model\n",
    "trainer.train()"
   ]
  },
  {
   "cell_type": "code",
   "execution_count": null,
   "metadata": {
    "colab": {
     "base_uri": "https://localhost:8080/",
     "height": 193
    },
    "id": "q0Awury3cICC",
    "outputId": "0f38ba9a-9d97-495f-9731-792c88c84355"
   },
   "outputs": [],
   "source": [
    "# Evaluate model on test set\n",
    "trainer.evaluate(eval_dataset=tokenized_datasets[\"test\"])"
   ]
  },
  {
   "cell_type": "code",
   "execution_count": null,
   "metadata": {
    "colab": {
     "base_uri": "https://localhost:8080/",
     "height": 49,
     "referenced_widgets": [
      "ac7eb72d6716443dae434e217da9008e",
      "f6ffca71d75b415bb5f4d7dfc0bd0c82",
      "7985092508b3457a82d9755b4094a3b1",
      "09bb260ec9e44a389e0f250d6af7c7f3",
      "416a5fdcdd374677be311178aa2d9a66",
      "2949eb4908e0401fb76a2b94fe0207cc",
      "b1e4db34b8c042adb617703bd776d9ee",
      "1b63d5863a3041e5b50327466de3afb6",
      "6b49fd3d7bda49acaef8894c087dcce3",
      "7cb23de55a84418c9106aad1b7bd7098",
      "e4ce935df3394d638d8ae3c5a9a4f8c3"
     ]
    },
    "id": "Tqbg4KcgcKPB",
    "outputId": "b403e2a1-5962-410c-f96d-ea23005e6c3e"
   },
   "outputs": [],
   "source": [
    "# Tokenize test set\n",
    "tokenized_test = dataset[\"test\"].map(tokenize_function, batched=True)\n",
    "\n",
    "tokenized_test = tokenized_test.remove_columns([\"text\"])\n",
    "\n",
    "# Set the format to PyTorch tensors\n",
    "tokenized_test.set_format(\"torch\")"
   ]
  },
  {
   "cell_type": "code",
   "execution_count": null,
   "metadata": {
    "colab": {
     "base_uri": "https://localhost:8080/",
     "height": 17
    },
    "id": "pQ2SzdEshwoN",
    "outputId": "c283bb66-9c0b-4609-9415-17dba26e94ec"
   },
   "outputs": [],
   "source": [
    "# Model prediction on test set\n",
    "preds_output = trainer.predict(tokenized_test)\n",
    "\n",
    "# True labels\n",
    "y_true = preds_output.label_ids\n",
    "\n",
    "# Take the index 0 or 1 with highest probability\n",
    "y_pred = preds_output.predictions.argmax(axis=-1)"
   ]
  },
  {
   "cell_type": "code",
   "execution_count": null,
   "metadata": {
    "colab": {
     "base_uri": "https://localhost:8080/",
     "height": 487
    },
    "id": "albdW4ZbcNRH",
    "outputId": "fc44f63d-f849-4c71-ec72-395f6c2047ee"
   },
   "outputs": [],
   "source": [
    "# Create the confusion matrix using actual and predicted labels\n",
    "cm = confusion_matrix(y_true, y_pred)\n",
    "\n",
    "# Set plot figure size\n",
    "plt.figure(figsize=(6, 5))\n",
    "\n",
    "# Plot confusion matrix\n",
    "sns.heatmap(cm, annot=True, fmt=\"d\", cmap=\"Blues\", xticklabels=[\"Non-depression\", \"Depression\"], yticklabels=[\"Non-depression\", \"Depression\"])\n",
    "plt.xlabel(\"Predicted\")\n",
    "plt.ylabel(\"Actual\")\n",
    "plt.title(\"Confusion Matrix\")\n",
    "plt.show()"
   ]
  },
  {
   "cell_type": "code",
   "execution_count": null,
   "metadata": {
    "id": "cJg4JzqwcyLq"
   },
   "outputs": [],
   "source": [
    "# Get all the logs from training from each epoch\n",
    "logs = trainer.state.log_history\n",
    "df = pd.DataFrame(logs)\n",
    "\n",
    "# Filter out non-null losses\n",
    "train_loss = df[df[\"loss\"].notnull()]\n",
    "eval_loss = df[df[\"eval_loss\"].notnull()]"
   ]
  },
  {
   "cell_type": "code",
   "execution_count": null,
   "metadata": {
    "colab": {
     "base_uri": "https://localhost:8080/",
     "height": 472
    },
    "id": "3VOlD-_9dOQa",
    "outputId": "476576a7-021f-4036-ad53-c430f7773fca"
   },
   "outputs": [],
   "source": [
    "# Plot train and val losses\n",
    "plt.plot(train_loss[\"step\"], train_loss[\"loss\"], label=\"Training Loss\")\n",
    "plt.plot(eval_loss[\"step\"], eval_loss[\"eval_loss\"], label=\"Validation Loss\")\n",
    "plt.xlabel(\"Steps\")\n",
    "plt.ylabel(\"Loss\")\n",
    "plt.legend()\n",
    "plt.title(\"Training and Validation Loss Over Time\")\n",
    "plt.grid(True)\n",
    "plt.show()"
   ]
  },
  {
   "cell_type": "code",
   "execution_count": null,
   "metadata": {
    "id": "o_yBPde8dWcO"
   },
   "outputs": [],
   "source": [
    "# Create dataframe for test metrics\n",
    "results_df = pd.DataFrame({\n",
    "    \"Metric\": [\"Accuracy\", \"F1\", \"Precision\", \"Recall\"],\n",
    "    \"Score\": [\n",
    "        accuracy.compute(predictions=y_pred, references=y_true)[\"accuracy\"],\n",
    "        f1.compute(predictions=y_pred, references=y_true, average=\"weighted\")[\"f1\"],\n",
    "        precision.compute(predictions=y_pred, references=y_true, average=\"weighted\")[\"precision\"],\n",
    "        recall.compute(predictions=y_pred, references=y_true, average=\"weighted\")[\"recall\"],\n",
    "    ]\n",
    "})"
   ]
  },
  {
   "cell_type": "code",
   "execution_count": null,
   "metadata": {
    "colab": {
     "base_uri": "https://localhost:8080/",
     "height": 175
    },
    "id": "-TFxdkC2dhi8",
    "outputId": "43144cfa-43ef-4ef1-e42d-d766a585c889"
   },
   "outputs": [],
   "source": [
    "# Test metrics\n",
    "results_df"
   ]
  }
 ],
 "metadata": {
  "accelerator": "GPU",
  "colab": {
   "gpuType": "T4",
   "provenance": []
  },
  "kernelspec": {
   "display_name": "Python 3",
   "name": "python3"
  },
  "language_info": {
   "name": "python"
  }
 },
 "nbformat": 4,
 "nbformat_minor": 0
}
